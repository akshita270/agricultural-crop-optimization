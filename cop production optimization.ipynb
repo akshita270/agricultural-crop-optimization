{
 "cells": [
  {
   "cell_type": "markdown",
   "id": "7018314c",
   "metadata": {},
   "source": [
    "# importing libraries"
   ]
  },
  {
   "cell_type": "code",
   "execution_count": 18,
   "id": "6ba39f80",
   "metadata": {},
   "outputs": [],
   "source": [
    "import numpy as np\n",
    "import pandas as pd\n",
    "import matplotlib.pyplot as plt\n",
    "import seaborn as sns\n",
    "from ipywidgets import interact"
   ]
  },
  {
   "cell_type": "markdown",
   "id": "ae6fe92d",
   "metadata": {},
   "source": [
    "## reading the dataset"
   ]
  },
  {
   "cell_type": "code",
   "execution_count": 19,
   "id": "da384835",
   "metadata": {},
   "outputs": [
    {
     "data": {
      "text/html": [
       "<div>\n",
       "<style scoped>\n",
       "    .dataframe tbody tr th:only-of-type {\n",
       "        vertical-align: middle;\n",
       "    }\n",
       "\n",
       "    .dataframe tbody tr th {\n",
       "        vertical-align: top;\n",
       "    }\n",
       "\n",
       "    .dataframe thead th {\n",
       "        text-align: right;\n",
       "    }\n",
       "</style>\n",
       "<table border=\"1\" class=\"dataframe\">\n",
       "  <thead>\n",
       "    <tr style=\"text-align: right;\">\n",
       "      <th></th>\n",
       "      <th>N</th>\n",
       "      <th>P</th>\n",
       "      <th>K</th>\n",
       "      <th>temperature</th>\n",
       "      <th>humidity</th>\n",
       "      <th>ph</th>\n",
       "      <th>rainfall</th>\n",
       "      <th>label</th>\n",
       "    </tr>\n",
       "  </thead>\n",
       "  <tbody>\n",
       "    <tr>\n",
       "      <th>0</th>\n",
       "      <td>90</td>\n",
       "      <td>42</td>\n",
       "      <td>43</td>\n",
       "      <td>20.879744</td>\n",
       "      <td>82.002744</td>\n",
       "      <td>6.502985</td>\n",
       "      <td>202.935536</td>\n",
       "      <td>rice</td>\n",
       "    </tr>\n",
       "    <tr>\n",
       "      <th>1</th>\n",
       "      <td>85</td>\n",
       "      <td>58</td>\n",
       "      <td>41</td>\n",
       "      <td>21.770462</td>\n",
       "      <td>80.319644</td>\n",
       "      <td>7.038096</td>\n",
       "      <td>226.655537</td>\n",
       "      <td>rice</td>\n",
       "    </tr>\n",
       "    <tr>\n",
       "      <th>2</th>\n",
       "      <td>60</td>\n",
       "      <td>55</td>\n",
       "      <td>44</td>\n",
       "      <td>23.004459</td>\n",
       "      <td>82.320763</td>\n",
       "      <td>7.840207</td>\n",
       "      <td>263.964248</td>\n",
       "      <td>rice</td>\n",
       "    </tr>\n",
       "    <tr>\n",
       "      <th>3</th>\n",
       "      <td>74</td>\n",
       "      <td>35</td>\n",
       "      <td>40</td>\n",
       "      <td>26.491096</td>\n",
       "      <td>80.158363</td>\n",
       "      <td>6.980401</td>\n",
       "      <td>242.864034</td>\n",
       "      <td>rice</td>\n",
       "    </tr>\n",
       "    <tr>\n",
       "      <th>4</th>\n",
       "      <td>78</td>\n",
       "      <td>42</td>\n",
       "      <td>42</td>\n",
       "      <td>20.130175</td>\n",
       "      <td>81.604873</td>\n",
       "      <td>7.628473</td>\n",
       "      <td>262.717340</td>\n",
       "      <td>rice</td>\n",
       "    </tr>\n",
       "  </tbody>\n",
       "</table>\n",
       "</div>"
      ],
      "text/plain": [
       "    N   P   K  temperature   humidity        ph    rainfall label\n",
       "0  90  42  43    20.879744  82.002744  6.502985  202.935536  rice\n",
       "1  85  58  41    21.770462  80.319644  7.038096  226.655537  rice\n",
       "2  60  55  44    23.004459  82.320763  7.840207  263.964248  rice\n",
       "3  74  35  40    26.491096  80.158363  6.980401  242.864034  rice\n",
       "4  78  42  42    20.130175  81.604873  7.628473  262.717340  rice"
      ]
     },
     "execution_count": 19,
     "metadata": {},
     "output_type": "execute_result"
    }
   ],
   "source": [
    "data=pd.read_csv(\"Crop_recommendation.csv\")\n",
    "data.head()"
   ]
  },
  {
   "cell_type": "markdown",
   "id": "173e6e98",
   "metadata": {},
   "source": [
    "## counting rows and columns"
   ]
  },
  {
   "cell_type": "code",
   "execution_count": 5,
   "id": "88efd995",
   "metadata": {},
   "outputs": [
    {
     "data": {
      "text/plain": [
       "(2200, 8)"
      ]
     },
     "execution_count": 5,
     "metadata": {},
     "output_type": "execute_result"
    }
   ],
   "source": [
    "data.shape"
   ]
  },
  {
   "cell_type": "markdown",
   "id": "2d0818d0",
   "metadata": {},
   "source": [
    "## counting null values"
   ]
  },
  {
   "cell_type": "code",
   "execution_count": 6,
   "id": "e74ece83",
   "metadata": {},
   "outputs": [
    {
     "data": {
      "text/plain": [
       "N              0\n",
       "P              0\n",
       "K              0\n",
       "temperature    0\n",
       "humidity       0\n",
       "ph             0\n",
       "rainfall       0\n",
       "label          0\n",
       "dtype: int64"
      ]
     },
     "execution_count": 6,
     "metadata": {},
     "output_type": "execute_result"
    }
   ],
   "source": [
    "data.isnull().sum()"
   ]
  },
  {
   "cell_type": "code",
   "execution_count": null,
   "id": "ed87611e",
   "metadata": {},
   "outputs": [],
   "source": []
  },
  {
   "cell_type": "code",
   "execution_count": 7,
   "id": "83a5feaa",
   "metadata": {},
   "outputs": [
    {
     "data": {
      "text/plain": [
       "jute           100\n",
       "rice           100\n",
       "apple          100\n",
       "coconut        100\n",
       "banana         100\n",
       "cotton         100\n",
       "maize          100\n",
       "watermelon     100\n",
       "mango          100\n",
       "pigeonpeas     100\n",
       "blackgram      100\n",
       "muskmelon      100\n",
       "grapes         100\n",
       "orange         100\n",
       "papaya         100\n",
       "mungbean       100\n",
       "kidneybeans    100\n",
       "coffee         100\n",
       "lentil         100\n",
       "chickpea       100\n",
       "pomegranate    100\n",
       "mothbeans      100\n",
       "Name: label, dtype: int64"
      ]
     },
     "execution_count": 7,
     "metadata": {},
     "output_type": "execute_result"
    }
   ],
   "source": [
    "data['label'].value_counts()"
   ]
  },
  {
   "cell_type": "markdown",
   "id": "56acffe4",
   "metadata": {},
   "source": [
    "## data visualization"
   ]
  },
  {
   "cell_type": "code",
   "execution_count": 8,
   "id": "f55b963b",
   "metadata": {},
   "outputs": [
    {
     "name": "stdout",
     "output_type": "stream",
     "text": [
      "average ratio of nitrogen in soil: {0:.2f} 50.551818181818184\n",
      "average ratio of phosphorous in soil: {0:.2f} 53.36272727272727\n",
      "average ratio of potassium in soil: {0:.2f} 48.14909090909091\n",
      "average temperature in celsius: {0:.2f} 25.616243851779533\n",
      "average relative humidity in %: {0:.2f} 71.48177921778648\n",
      "average ph value: {0:.2f} 6.469480065256369\n",
      "average rainfall in mm: {0:.2f} 103.46365541576832\n"
     ]
    }
   ],
   "source": [
    "print(\"average ratio of nitrogen in soil: {0:.2f}\", format(data[\"N\"].mean()))\n",
    "print(\"average ratio of phosphorous in soil: {0:.2f}\", format(data[\"P\"].mean()))\n",
    "print(\"average ratio of potassium in soil: {0:.2f}\", format(data[\"K\"].mean()))\n",
    "print(\"average temperature in celsius: {0:.2f}\", format(data[\"temperature\"].mean()))\n",
    "print(\"average relative humidity in %: {0:.2f}\", format(data[\"humidity\"].mean()))\n",
    "print(\"average ph value: {0:.2f}\", format(data[\"ph\"].mean()))\n",
    "print(\"average rainfall in mm: {0:.2f}\", format(data[\"rainfall\"].mean()))"
   ]
  },
  {
   "cell_type": "code",
   "execution_count": 9,
   "id": "8faee50d",
   "metadata": {},
   "outputs": [
    {
     "data": {
      "application/vnd.jupyter.widget-view+json": {
       "model_id": "ff5879e906de477ead4ee8a7b970a3a6",
       "version_major": 2,
       "version_minor": 0
      },
      "text/plain": [
       "interactive(children=(Dropdown(description='crops', options=('jute', 'rice', 'apple', 'coconut', 'banana', 'co…"
      ]
     },
     "metadata": {},
     "output_type": "display_data"
    }
   ],
   "source": [
    "@interact\n",
    "def summary(crops= list(data['label'].value_counts().index)):\n",
    "    x=data[data['label']== crops]\n",
    "    print(\"-------------------------------------\")\n",
    "    print('statistics for nitrogen')\n",
    "    print(\"minimum nitrogen required :\", x['N'].min())\n",
    "    print(\"average nitrogen required :\", x['N'].mean())\n",
    "    print(\"maximum nitrogen required :\", x['N'].max())\n",
    "    print(\"--------------------------------------\")\n",
    "    print(\"statistics for phosphorous\")\n",
    "    print(\"minimum phosphorous required :\", x['P'].min())\n",
    "    print(\"average phosphorous required :\", x['P'].mean())\n",
    "    print(\"maximum phosphorous required :\", x['P'].max())\n",
    "    print(\"--------------------------------------\")\n",
    "    print(\"statistics for potassium\")\n",
    "    print(\"minimum potassium required :\", x['K'].min())\n",
    "    print(\"average potassium required :\", x['K'].mean())\n",
    "    print(\"maximum potassium required :\", x['K'].max())\n",
    "    print(\"--------------------------------------\")\n",
    "    print(\"statistics for temperature\")\n",
    "    print(\"minimum temperature required : {0:.2f}\".format(x['temperature'].min()))\n",
    "    print(\"average temperature required : {0:.2f}\".format(x['temperature'].mean()))\n",
    "    print(\"maximum temperature required : {0:.2f}\".format(x['temperature'].max()))\n",
    "    print(\"--------------------------------------\")\n",
    "    print(\"statistics for humidity\")\n",
    "    print(\"minimum humidity required : {0:.2f}\".format(x['humidity'].min()))\n",
    "    print(\"average humidity required : {0:.2f}\".format(x['humidity'].mean()))\n",
    "    print(\"maximum humidity required : {0:.2f}\".format(x['humidity'].max()))\n",
    "    print(\"--------------------------------------\")\n",
    "    print(\"statistics for PH\")\n",
    "    print(\"minimum PH required : {0:.2f}\".format(x['ph'].min()))\n",
    "    print(\"average PH required : {0:.2f}\".format(x['ph'].mean()))\n",
    "    print(\"maximum PH required : {0:.2f}\".format(x['ph'].max()))\n",
    "    print(\"--------------------------------------\")\n",
    "    print(\"statistics for rainfall\")\n",
    "    print(\"minimum rainfall required : {0:.2f}\".format(x['rainfall'].min()))\n",
    "    print(\"average rainfall required : {0:.2f}\".format(x['rainfall'].mean()))\n",
    "    print(\"maximum rainfall required : {0:.2f}\".format(x['rainfall'].max()))\n",
    "    \n",
    "    \n",
    "    \n",
    "    \n",
    "    \n",
    "    \n",
    "    \n",
    "    \n",
    "    "
   ]
  },
  {
   "cell_type": "code",
   "execution_count": 10,
   "id": "8119d909",
   "metadata": {},
   "outputs": [
    {
     "data": {
      "application/vnd.jupyter.widget-view+json": {
       "model_id": "e247c140ff014fad9a035dd6aab3b0fb",
       "version_major": 2,
       "version_minor": 0
      },
      "text/plain": [
       "interactive(children=(Dropdown(description='conditions', options=('N', 'P', 'K', 'temperature', 'ph', 'humidit…"
      ]
     },
     "metadata": {},
     "output_type": "display_data"
    }
   ],
   "source": [
    "@interact\n",
    "def compare(conditions= ['N','P','K','temperature','ph','humidity','rainfall']):\n",
    "    print(\"crops which require more than average\", conditions, '\\n')\n",
    "    print(data[data[conditions] > data[conditions].mean()]['label'].unique())\n",
    "    print(\"---------------------------------------------------------------\")\n",
    "    print(\"crops which require below than average\", conditions, '\\n')\n",
    "    print(data[data[conditions] <= data[conditions].mean()]['label'].unique())\n"
   ]
  },
  {
   "cell_type": "markdown",
   "id": "a27a967d",
   "metadata": {},
   "source": [
    "## plotting the graphs to show crops \n"
   ]
  },
  {
   "cell_type": "code",
   "execution_count": 11,
   "id": "05633a87",
   "metadata": {},
   "outputs": [
    {
     "name": "stderr",
     "output_type": "stream",
     "text": [
      "C:\\ProgramData\\Anaconda3\\lib\\site-packages\\seaborn\\distributions.py:2557: FutureWarning: `distplot` is a deprecated function and will be removed in a future version. Please adapt your code to use either `displot` (a figure-level function with similar flexibility) or `histplot` (an axes-level function for histograms).\n",
      "  warnings.warn(msg, FutureWarning)\n",
      "C:\\ProgramData\\Anaconda3\\lib\\site-packages\\seaborn\\distributions.py:2557: FutureWarning: `distplot` is a deprecated function and will be removed in a future version. Please adapt your code to use either `displot` (a figure-level function with similar flexibility) or `histplot` (an axes-level function for histograms).\n",
      "  warnings.warn(msg, FutureWarning)\n",
      "C:\\ProgramData\\Anaconda3\\lib\\site-packages\\seaborn\\distributions.py:2557: FutureWarning: `distplot` is a deprecated function and will be removed in a future version. Please adapt your code to use either `displot` (a figure-level function with similar flexibility) or `histplot` (an axes-level function for histograms).\n",
      "  warnings.warn(msg, FutureWarning)\n",
      "C:\\ProgramData\\Anaconda3\\lib\\site-packages\\seaborn\\distributions.py:2557: FutureWarning: `distplot` is a deprecated function and will be removed in a future version. Please adapt your code to use either `displot` (a figure-level function with similar flexibility) or `histplot` (an axes-level function for histograms).\n",
      "  warnings.warn(msg, FutureWarning)\n",
      "C:\\ProgramData\\Anaconda3\\lib\\site-packages\\seaborn\\distributions.py:2557: FutureWarning: `distplot` is a deprecated function and will be removed in a future version. Please adapt your code to use either `displot` (a figure-level function with similar flexibility) or `histplot` (an axes-level function for histograms).\n",
      "  warnings.warn(msg, FutureWarning)\n",
      "C:\\ProgramData\\Anaconda3\\lib\\site-packages\\seaborn\\distributions.py:2557: FutureWarning: `distplot` is a deprecated function and will be removed in a future version. Please adapt your code to use either `displot` (a figure-level function with similar flexibility) or `histplot` (an axes-level function for histograms).\n",
      "  warnings.warn(msg, FutureWarning)\n",
      "C:\\ProgramData\\Anaconda3\\lib\\site-packages\\seaborn\\distributions.py:2557: FutureWarning: `distplot` is a deprecated function and will be removed in a future version. Please adapt your code to use either `displot` (a figure-level function with similar flexibility) or `histplot` (an axes-level function for histograms).\n",
      "  warnings.warn(msg, FutureWarning)\n"
     ]
    },
    {
     "ename": "AttributeError",
     "evalue": "module 'matplotlib.pyplot' has no attribute 'subtitle'",
     "output_type": "error",
     "traceback": [
      "\u001b[1;31m---------------------------------------------------------------------------\u001b[0m",
      "\u001b[1;31mAttributeError\u001b[0m                            Traceback (most recent call last)",
      "\u001b[1;32m<ipython-input-11-0732e379ffbf>\u001b[0m in \u001b[0;36m<module>\u001b[1;34m\u001b[0m\n\u001b[0;32m     34\u001b[0m \u001b[0mplt\u001b[0m\u001b[1;33m.\u001b[0m\u001b[0mgrid\u001b[0m\u001b[1;33m(\u001b[0m\u001b[1;33m)\u001b[0m\u001b[1;33m\u001b[0m\u001b[1;33m\u001b[0m\u001b[0m\n\u001b[0;32m     35\u001b[0m \u001b[1;33m\u001b[0m\u001b[0m\n\u001b[1;32m---> 36\u001b[1;33m \u001b[0mplt\u001b[0m\u001b[1;33m.\u001b[0m\u001b[0msubtitle\u001b[0m\u001b[1;33m(\u001b[0m\u001b[1;34m\"distribution of agricultural conditions\"\u001b[0m\u001b[1;33m,\u001b[0m \u001b[0mfontsize\u001b[0m\u001b[1;33m=\u001b[0m\u001b[1;36m20\u001b[0m\u001b[1;33m)\u001b[0m\u001b[1;33m\u001b[0m\u001b[1;33m\u001b[0m\u001b[0m\n\u001b[0m\u001b[0;32m     37\u001b[0m \u001b[0mplt\u001b[0m\u001b[1;33m.\u001b[0m\u001b[0mshow\u001b[0m\u001b[1;33m(\u001b[0m\u001b[1;33m)\u001b[0m\u001b[1;33m\u001b[0m\u001b[1;33m\u001b[0m\u001b[0m\n",
      "\u001b[1;31mAttributeError\u001b[0m: module 'matplotlib.pyplot' has no attribute 'subtitle'"
     ]
    },
    {
     "data": {
      "image/png": "[encoded data removed]",
      "text/plain": [
       "<Figure size 432x288 with 7 Axes>"
      ]
     },
     "metadata": {
      "needs_background": "light"
     },
     "output_type": "display_data"
    }
   ],
   "source": [
    "plt.subplot(2,4,1)\n",
    "sns.distplot(data['K'], color='darkblue')\n",
    "plt.xlabel('ratio of potassium', fontsize=12)\n",
    "plt.grid()\n",
    "\n",
    "plt.subplot(2,4,2)\n",
    "sns.distplot(data['N'], color='grey')\n",
    "plt.xlabel('ratio of nitrogen', fontsize=12)\n",
    "plt.grid()\n",
    "\n",
    "plt.subplot(2,4,3)\n",
    "sns.distplot(data['P'], color='red')\n",
    "plt.xlabel('ratio of potassium', fontsize=12)\n",
    "plt.grid()\n",
    "\n",
    "plt.subplot(2,4,4)\n",
    "sns.distplot(data['ph'], color='orange')\n",
    "plt.xlabel('ph', fontsize=12)\n",
    "plt.grid()\n",
    "\n",
    "plt.subplot(2,4,5)\n",
    "sns.distplot(data['humidity'], color='yellow')\n",
    "plt.xlabel('humidity', fontsize=12)\n",
    "plt.grid()\n",
    "\n",
    "plt.subplot(2,4,6)\n",
    "sns.distplot(data['rainfall'], color='green')\n",
    "plt.xlabel('rainfall', fontsize=12)\n",
    "plt.grid()\n",
    "\n",
    "plt.subplot(2,4,7)\n",
    "sns.distplot(data['temperature'], color='violet')\n",
    "plt.xlabel('temperature', fontsize=12)\n",
    "plt.grid()\n",
    "\n",
    "plt.subtitle(\"distribution of agricultural conditions\", fontsize=20)\n",
    "plt.show()"
   ]
  },
  {
   "cell_type": "code",
   "execution_count": 12,
   "id": "e9d0a891",
   "metadata": {},
   "outputs": [
    {
     "name": "stdout",
     "output_type": "stream",
     "text": [
      "some interesting patterns\n",
      "crops which require very high ratio of nitrogen in soil : ['cotton']\n",
      "crops which require very high ratio of phosphorous in soil : ['grapes' 'apple']\n",
      "crops which require very high ratio of potassium in soil : ['grapes' 'apple']\n",
      "crops which require very high rainfall : ['rice' 'papaya' 'coconut']\n",
      "crops which require very high temperature : ['grapes' 'papaya']\n",
      "crops which require very low temperature : ['grapes']\n",
      "crops which require very high ph : ['mothbeans']\n",
      "crops which require very low ph : ['mothbeans']\n",
      "crops which require very low humidity : ['chickpea' 'kidneybeans']\n"
     ]
    }
   ],
   "source": [
    "print(\"some interesting patterns\")\n",
    "\n",
    "print(\"crops which require very high ratio of nitrogen in soil :\", data[data['N']> 120]['label'].unique())\n",
    "print(\"crops which require very high ratio of phosphorous in soil :\", data[data['P']> 100]['label'].unique())\n",
    "print(\"crops which require very high ratio of potassium in soil :\", data[data['K']> 200]['label'].unique())\n",
    "print(\"crops which require very high rainfall :\", data[data['rainfall']> 200]['label'].unique())\n",
    "print(\"crops which require very high temperature :\", data[data['temperature']> 40]['label'].unique())\n",
    "print(\"crops which require very low temperature :\", data[data['temperature']< 10]['label'].unique())\n",
    "print(\"crops which require very high ph :\", data[data['ph']> 9]['label'].unique())\n",
    "print(\"crops which require very low ph :\", data[data['ph']< 4]['label'].unique())\n",
    "print(\"crops which require very low humidity :\", data[data['humidity']< 20]['label'].unique())"
   ]
  },
  {
   "cell_type": "markdown",
   "id": "8941ba46",
   "metadata": {},
   "source": [
    "## declaring dependent and independent variables"
   ]
  },
  {
   "cell_type": "code",
   "execution_count": 13,
   "id": "ef627a58",
   "metadata": {},
   "outputs": [],
   "source": [
    "y=data['label']\n",
    "x=data.drop(['label'], axis=1)"
   ]
  },
  {
   "cell_type": "markdown",
   "id": "69230d5f",
   "metadata": {},
   "source": [
    "## splitting the data into train and test"
   ]
  },
  {
   "cell_type": "code",
   "execution_count": 14,
   "id": "c8b81a08",
   "metadata": {},
   "outputs": [],
   "source": [
    "from sklearn.model_selection import train_test_split\n",
    "x_train, x_test, y_train, y_test=train_test_split(x,y, test_size=0.2, random_state=0)"
   ]
  },
  {
   "cell_type": "markdown",
   "id": "56ada09e",
   "metadata": {},
   "source": [
    "## training the model"
   ]
  },
  {
   "cell_type": "code",
   "execution_count": 15,
   "id": "a6d4ec68",
   "metadata": {},
   "outputs": [
    {
     "name": "stderr",
     "output_type": "stream",
     "text": [
      "C:\\ProgramData\\Anaconda3\\lib\\site-packages\\sklearn\\linear_model\\_logistic.py:763: ConvergenceWarning: lbfgs failed to converge (status=1):\n",
      "STOP: TOTAL NO. of ITERATIONS REACHED LIMIT.\n",
      "\n",
      "Increase the number of iterations (max_iter) or scale the data as shown in:\n",
      "    https://scikit-learn.org/stable/modules/preprocessing.html\n",
      "Please also refer to the documentation for alternative solver options:\n",
      "    https://scikit-learn.org/stable/modules/linear_model.html#logistic-regression\n",
      "  n_iter_i = _check_optimize_result(\n"
     ]
    }
   ],
   "source": [
    "from sklearn.linear_model import LogisticRegression\n",
    "model=LogisticRegression()\n",
    "model.fit(x_train, y_train)\n",
    "y_pred=model.predict(x_test)"
   ]
  },
  {
   "cell_type": "markdown",
   "id": "54788738",
   "metadata": {},
   "source": [
    "## prediction of crops"
   ]
  },
  {
   "cell_type": "code",
   "execution_count": 17,
   "id": "61ccf9c6",
   "metadata": {},
   "outputs": [
    {
     "name": "stdout",
     "output_type": "stream",
     "text": [
      "the suggestion of crop for given climatuic condition is : ['rice']\n"
     ]
    }
   ],
   "source": [
    "prediction=model.predict((np.array([[90,\n",
    "                                     40,\n",
    "                                      40,\n",
    "                                      20,\n",
    "                                      80,\n",
    "                                       7,\n",
    "                                    200]])))\n",
    "print(\"the suggestion of crop for given climatuic condition is :\", prediction)"
   ]
  },
  {
   "cell_type": "code",
   "execution_count": null,
   "id": "23db1b69",
   "metadata": {},
   "outputs": [],
   "source": []
  }
 ],
 "metadata": {
  "kernelspec": {
   "display_name": "Python 3",
   "language": "python",
   "name": "python3"
  },
  "language_info": {
   "codemirror_mode": {
    "name": "ipython",
    "version": 3
   },
   "file_extension": ".py",
   "mimetype": "text/x-python",
   "name": "python",
   "nbconvert_exporter": "python",
   "pygments_lexer": "ipython3",
   "version": "3.6.13"
  }
 },
 "nbformat": 4,
 "nbformat_minor": 5
}
